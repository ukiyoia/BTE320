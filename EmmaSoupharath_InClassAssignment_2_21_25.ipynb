{
  "nbformat": 4,
  "nbformat_minor": 0,
  "metadata": {
    "colab": {
      "provenance": [],
      "authorship_tag": "ABX9TyN6pPngwtTNshPNGtBCI2sZ",
      "include_colab_link": true
    },
    "kernelspec": {
      "name": "python3",
      "display_name": "Python 3"
    },
    "language_info": {
      "name": "python"
    }
  },
  "cells": [
    {
      "cell_type": "markdown",
      "metadata": {
        "id": "view-in-github",
        "colab_type": "text"
      },
      "source": [
        "<a href=\"https://colab.research.google.com/github/ukiyoia/BTE320/blob/main/EmmaSoupharath_InClassAssignment_2_21_25.ipynb\" target=\"_parent\"><img src=\"https://colab.research.google.com/assets/colab-badge.svg\" alt=\"Open In Colab\"/></a>"
      ]
    },
    {
      "cell_type": "markdown",
      "source": [
        "# Build a Dictionary Dynamically of 5 distinct key:value pairs\n",
        "\n",
        "Begin by creating an empty dictionary. Then, use a while loop to read strings from the user (Hint: input()) until 5 unique strings have been entered. Finally, all strings are displayed with their counts."
      ],
      "metadata": {
        "id": "HwKOmlQZyMuy"
      }
    },
    {
      "cell_type": "code",
      "execution_count": null,
      "metadata": {
        "colab": {
          "base_uri": "https://localhost:8080/"
        },
        "id": "dK-ASgvSxlom",
        "outputId": "081c4b81-1f75-40f8-ee54-84f1f5d167d5"
      },
      "outputs": [
        {
          "name": "stdout",
          "output_type": "stream",
          "text": [
            "Enter a string: 3\n",
            "Enter a string: 4\n",
            "Enter a string: 5\n",
            "Enter a string: 7\n",
            "Enter a string: 6\n"
          ]
        },
        {
          "output_type": "execute_result",
          "data": {
            "text/plain": [
              "{'3': 1, '4': 1, '5': 1, '7': 1, '6': 1}"
            ]
          },
          "metadata": {},
          "execution_count": 1
        }
      ],
      "source": [
        "# empty dict\n",
        "counts = {}\n",
        "\n",
        "# loop until 5 distinct strings have been entered\n",
        "while len(counts) < 5:\n",
        "  string = input(\"Enter a string: \")\n",
        "  if string not in counts:\n",
        "    counts[string] = 1\n",
        "  else:\n",
        "    counts[string] += 1\n",
        "\n",
        "counts\n",
        "\n",
        "  # if string entered already exists as a key in the dictionary, then increase its count (value) by 1, otherwise add the string to the dictionary with a count of 1\n",
        "\n",
        "# After finishing the process of populating the dictionary, print all strings and their counts (that is the key-value pairs)"
      ]
    },
    {
      "cell_type": "code",
      "source": [
        "counts = {}\n",
        "\n",
        "while len(counts) < 5:\n",
        "  key = input(\"Enter a string: \")\n",
        "  if key not in counts:\n",
        "    counts[key] = 1\n",
        "  else:\n",
        "    counts[key] = counts[key] + 1\n",
        "\n",
        "counts"
      ],
      "metadata": {
        "colab": {
          "base_uri": "https://localhost:8080/"
        },
        "id": "nclHJR9Vyc51",
        "outputId": "c97ca2c6-64f6-4257-c5bc-1d555067cde3"
      },
      "execution_count": null,
      "outputs": [
        {
          "name": "stdout",
          "output_type": "stream",
          "text": [
            "Enter a string: a\n",
            "Enter a string: b\n",
            "Enter a string: c\n",
            "Enter a string: c\n",
            "Enter a string: d\n",
            "Enter a string: d\n",
            "Enter a string: e\n"
          ]
        },
        {
          "output_type": "execute_result",
          "data": {
            "text/plain": [
              "{'a': 1, 'b': 1, 'c': 2, 'd': 2, 'e': 1}"
            ]
          },
          "metadata": {},
          "execution_count": 2
        }
      ]
    }
  ]
}