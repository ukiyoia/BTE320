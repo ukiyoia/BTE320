{
  "nbformat": 4,
  "nbformat_minor": 0,
  "metadata": {
    "colab": {
      "provenance": [],
      "authorship_tag": "ABX9TyO1qnkPQKFNpZzW7AxnX/o9",
      "include_colab_link": true
    },
    "kernelspec": {
      "name": "python3",
      "display_name": "Python 3"
    },
    "language_info": {
      "name": "python"
    }
  },
  "cells": [
    {
      "cell_type": "markdown",
      "metadata": {
        "id": "view-in-github",
        "colab_type": "text"
      },
      "source": [
        "<a href=\"https://colab.research.google.com/github/ukiyoia/BTE320/blob/main/InClassAssignment_1_31_25.ipynb\" target=\"_parent\"><img src=\"https://colab.research.google.com/assets/colab-badge.svg\" alt=\"Open In Colab\"/></a>"
      ]
    },
    {
      "cell_type": "code",
      "execution_count": 4,
      "metadata": {
        "colab": {
          "base_uri": "https://localhost:8080/"
        },
        "id": "k5jx6GqAb40Q",
        "outputId": "8e74f59a-4a75-4ede-94bc-fa27d12fade6"
      },
      "outputs": [
        {
          "output_type": "stream",
          "name": "stdout",
          "text": [
            "Please enter your first number: 45\n",
            "Please enter your second number: 3\n",
            "Please enter your operator: *\n",
            "135.0\n"
          ]
        }
      ],
      "source": [
        "number_1 = float(input('Please enter your first number: '))\n",
        "number_2 = float(input('Please enter your second number: '))\n",
        "operator = input('Please enter your operator: ')\n",
        "\n",
        "if operator == '+':\n",
        "    print(number_1 + number_2)\n",
        "elif operator == '-':\n",
        "    print(number_1 - number_2)\n",
        "elif operator == '*':\n",
        "    print(number_1 * number_2)\n",
        "elif operator == '/':\n",
        "    print(number_1 / number_2)\n",
        "else:\n",
        "    print('Invalid operator')"
      ]
    }
  ]
}