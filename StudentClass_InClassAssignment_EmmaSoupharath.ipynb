{
  "nbformat": 4,
  "nbformat_minor": 0,
  "metadata": {
    "colab": {
      "provenance": [],
      "authorship_tag": "ABX9TyOusLU98YX2IFcGg5+fnvhT",
      "include_colab_link": true
    },
    "kernelspec": {
      "name": "python3",
      "display_name": "Python 3"
    },
    "language_info": {
      "name": "python"
    }
  },
  "cells": [
    {
      "cell_type": "markdown",
      "metadata": {
        "id": "view-in-github",
        "colab_type": "text"
      },
      "source": [
        "<a href=\"https://colab.research.google.com/github/ukiyoia/BTE320/blob/main/StudentClass_InClassAssignment_EmmaSoupharath.ipynb\" target=\"_parent\"><img src=\"https://colab.research.google.com/assets/colab-badge.svg\" alt=\"Open In Colab\"/></a>"
      ]
    },
    {
      "cell_type": "code",
      "source": [
        "class Student:\n",
        "    def __init__(self, name, number):\n",
        "      self.name = name\n",
        "      self.number = number\n",
        "\n",
        "student1 = Student(\"James Bond\", \"007\")\n",
        "student2 = Student(\"  Clark Kent\", \"333\")\n",
        "\n",
        "print(student1.name)\n",
        "print(student2.name)"
      ],
      "metadata": {
        "colab": {
          "base_uri": "https://localhost:8080/"
        },
        "id": "dQTMnqb4aZKq",
        "outputId": "d74dd6ba-3024-4750-faf7-7e964a9b377b"
      },
      "execution_count": 6,
      "outputs": [
        {
          "output_type": "stream",
          "name": "stdout",
          "text": [
            "James Bond\n",
            "  Clark Kent\n"
          ]
        }
      ]
    },
    {
      "cell_type": "code",
      "execution_count": 8,
      "metadata": {
        "id": "O7Bmykz7Y3Ih"
      },
      "outputs": [],
      "source": [
        "class Student:\n",
        "    def __init__(self, name, number):\n",
        "      self.name = name\n",
        "      self.number = number\n",
        "      self.courses = []\n",
        "\n",
        "    def enroll(self, course):\n",
        "      if course not in self.courses:\n",
        "        print(f\"You are already enrolled in {course}!\")\n",
        "      else:\n",
        "        self.courses.append(course)\n",
        "\n",
        "    def get_courses(self):\n",
        "      return self.courses\n",
        "\n",
        "student1 = Student(\"James Bond\", \"007\")\n",
        "student2 = Student(\"  Clark Kent\", \"333\")\n",
        "student3 = Student(\"John Doe\", \"1111\")"
      ]
    },
    {
      "cell_type": "code",
      "source": [
        "student1.enroll(\"BTE320\")"
      ],
      "metadata": {
        "colab": {
          "base_uri": "https://localhost:8080/"
        },
        "id": "NosovmfYaUqk",
        "outputId": "67f370ae-b901-4b92-f927-9176cfd3e6e3"
      },
      "execution_count": 9,
      "outputs": [
        {
          "output_type": "stream",
          "name": "stdout",
          "text": [
            "You are already enrolled in BTE320!\n"
          ]
        }
      ]
    }
  ]
}