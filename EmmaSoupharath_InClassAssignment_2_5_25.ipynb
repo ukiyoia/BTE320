{
  "nbformat": 4,
  "nbformat_minor": 0,
  "metadata": {
    "colab": {
      "provenance": [],
      "authorship_tag": "ABX9TyPx/Fpw1y5XbXbfPD32Z+BJ",
      "include_colab_link": true
    },
    "kernelspec": {
      "name": "python3",
      "display_name": "Python 3"
    },
    "language_info": {
      "name": "python"
    }
  },
  "cells": [
    {
      "cell_type": "markdown",
      "metadata": {
        "id": "view-in-github",
        "colab_type": "text"
      },
      "source": [
        "<a href=\"https://colab.research.google.com/github/ukiyoia/BTE320/blob/main/EmmaSoupharath_InClassAssignment_2_5_25.ipynb\" target=\"_parent\"><img src=\"https://colab.research.google.com/assets/colab-badge.svg\" alt=\"Open In Colab\"/></a>"
      ]
    },
    {
      "cell_type": "markdown",
      "source": [
        "# Parking Fee"
      ],
      "metadata": {
        "id": "lsElO6feN6Cg"
      }
    },
    {
      "cell_type": "code",
      "execution_count": 3,
      "metadata": {
        "colab": {
          "base_uri": "https://localhost:8080/"
        },
        "id": "8ZkuNVqgJVi4",
        "outputId": "e9415f35-3440-4ac5-d3b2-4b5b31b64a40"
      },
      "outputs": [
        {
          "output_type": "stream",
          "name": "stdout",
          "text": [
            "hours: 1, fee: $10.00\n",
            "hours: 2, fee: $10.00\n",
            "hours: 3, fee: $12.50\n",
            "hours: 4, fee: $15.00\n",
            "hours: 5, fee: $17.50\n",
            "hours: 6, fee: $20.00\n",
            "hours: 7, fee: $20.00\n",
            "hours: 8, fee: $20.00\n"
          ]
        }
      ],
      "source": [
        "for hours in range(1, 9):\n",
        "  fee = 5  + 2.5 * hours\n",
        "  if fee <= 10:\n",
        "      fee = 10\n",
        "  elif fee > 20:\n",
        "    fee = 20\n",
        "  print(f\"hours: {hours}, fee: ${fee:.2f}\")"
      ]
    },
    {
      "cell_type": "markdown",
      "source": [
        "# Movie Theater"
      ],
      "metadata": {
        "id": "EooDh60TOCnR"
      }
    },
    {
      "cell_type": "code",
      "source": [
        "for adcost in range(0, 201, 25):\n",
        "  additional = 2 * round(adcost ** 0.5)\n",
        "  profit = (20 + additional) * 10 - 200 - adcost\n",
        "  print(f\"adcost: {adcost}, profit: ${profit:.2f}\")"
      ],
      "metadata": {
        "colab": {
          "base_uri": "https://localhost:8080/"
        },
        "id": "Hzqr4D-COPqP",
        "outputId": "bb3469ab-0d2b-42e1-8360-4c6e6f9b5194"
      },
      "execution_count": 8,
      "outputs": [
        {
          "output_type": "stream",
          "name": "stdout",
          "text": [
            "adcost: 0, profit: $0.00\n",
            "adcost: 25, profit: $75.00\n",
            "adcost: 50, profit: $90.00\n",
            "adcost: 75, profit: $105.00\n",
            "adcost: 100, profit: $100.00\n",
            "adcost: 125, profit: $95.00\n",
            "adcost: 150, profit: $90.00\n",
            "adcost: 175, profit: $85.00\n",
            "adcost: 200, profit: $80.00\n"
          ]
        }
      ]
    },
    {
      "cell_type": "code",
      "source": [],
      "metadata": {
        "id": "fBajbmJbPruo"
      },
      "execution_count": null,
      "outputs": []
    }
  ]
}