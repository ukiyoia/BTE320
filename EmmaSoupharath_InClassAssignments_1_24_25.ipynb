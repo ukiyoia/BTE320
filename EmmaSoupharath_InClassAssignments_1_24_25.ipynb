{
  "nbformat": 4,
  "nbformat_minor": 0,
  "metadata": {
    "colab": {
      "provenance": [],
      "authorship_tag": "ABX9TyPyRZ5DbeQ96KMjlEc0wq+x",
      "include_colab_link": true
    },
    "kernelspec": {
      "name": "python3",
      "display_name": "Python 3"
    },
    "language_info": {
      "name": "python"
    }
  },
  "cells": [
    {
      "cell_type": "markdown",
      "metadata": {
        "id": "view-in-github",
        "colab_type": "text"
      },
      "source": [
        "<a href=\"https://colab.research.google.com/github/ukiyoia/BTE320/blob/main/EmmaSoupharath_InClassAssignments_1_24_25.ipynb\" target=\"_parent\"><img src=\"https://colab.research.google.com/assets/colab-badge.svg\" alt=\"Open In Colab\"/></a>"
      ]
    },
    {
      "cell_type": "code",
      "execution_count": 9,
      "metadata": {
        "colab": {
          "base_uri": "https://localhost:8080/"
        },
        "id": "NbcyVMFgZ5gi",
        "outputId": "1f37771c-8c52-4daa-ce61-d7556a1fdecb"
      },
      "outputs": [
        {
          "output_type": "stream",
          "name": "stdout",
          "text": [
            "Please provide your radius: 7\n",
            "Please provide your height: 9\n",
            "The surface area of your cylinder is: 703.7167544041137\n"
          ]
        }
      ],
      "source": [
        "# Calculate surface area of a cylinder\n",
        "radius = float(input(\"Please provide your radius: \"))\n",
        "height = float(input(\"Please provide your height: \"))\n",
        "pi = 3.141592653589793238462643383279502884197169399375\n",
        "\n",
        "surfacearea = (2 * pi * radius ** 2) + (2 * pi * radius * height)\n",
        "\n",
        "print(\"The surface area of your cylinder is: \" + str(surfacearea))"
      ]
    }
  ]
}