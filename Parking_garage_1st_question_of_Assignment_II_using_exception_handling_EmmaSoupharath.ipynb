{
  "nbformat": 4,
  "nbformat_minor": 0,
  "metadata": {
    "colab": {
      "provenance": [],
      "authorship_tag": "ABX9TyOMRzsLz9EPsqAijvUu7GDe",
      "include_colab_link": true
    },
    "kernelspec": {
      "name": "python3",
      "display_name": "Python 3"
    },
    "language_info": {
      "name": "python"
    }
  },
  "cells": [
    {
      "cell_type": "markdown",
      "metadata": {
        "id": "view-in-github",
        "colab_type": "text"
      },
      "source": [
        "<a href=\"https://colab.research.google.com/github/ukiyoia/BTE320/blob/main/Parking_garage_1st_question_of_Assignment_II_using_exception_handling_EmmaSoupharath.ipynb\" target=\"_parent\"><img src=\"https://colab.research.google.com/assets/colab-badge.svg\" alt=\"Open In Colab\"/></a>"
      ]
    },
    {
      "cell_type": "code",
      "execution_count": 1,
      "metadata": {
        "colab": {
          "base_uri": "https://localhost:8080/"
        },
        "id": "Vbd2LVtMOq_H",
        "outputId": "8dfa6029-e736-4891-8496-6890336daf48"
      },
      "outputs": [
        {
          "output_type": "stream",
          "name": "stdout",
          "text": [
            "Please enter the number of hours you parked: 6\n",
            "The parking fee for 6.0 hours is $15.00\n"
          ]
        }
      ],
      "source": [
        "def getParkingHours():\n",
        "  while True:\n",
        "    try:\n",
        "      hours = float(input('Please enter the number of hours you parked: '))\n",
        "      break\n",
        "    except ValueError:\n",
        "      print('Invalid input. Please enter a valid number of hours.')\n",
        "  return hours\n",
        "\n",
        "def calcParkingFee(hours):\n",
        "  fee = 2.5 * hours\n",
        "  if fee < 6:\n",
        "    fee = 6\n",
        "  elif fee > 20:\n",
        "    fee = 20\n",
        "  return fee\n",
        "\n",
        "if __name__ == '__main__':\n",
        "  hours = getParkingHours()\n",
        "  fee = calcParkingFee(hours)\n",
        "  print(f'The parking fee for {hours} hours is ${fee:.2f}')"
      ]
    }
  ]
}