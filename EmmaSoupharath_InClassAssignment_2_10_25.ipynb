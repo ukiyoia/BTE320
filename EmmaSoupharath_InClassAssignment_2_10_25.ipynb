{
  "nbformat": 4,
  "nbformat_minor": 0,
  "metadata": {
    "colab": {
      "provenance": [],
      "authorship_tag": "ABX9TyORJdbD0DRrh30PUKXfC9an",
      "include_colab_link": true
    },
    "kernelspec": {
      "name": "python3",
      "display_name": "Python 3"
    },
    "language_info": {
      "name": "python"
    }
  },
  "cells": [
    {
      "cell_type": "markdown",
      "metadata": {
        "id": "view-in-github",
        "colab_type": "text"
      },
      "source": [
        "<a href=\"https://colab.research.google.com/github/ukiyoia/BTE320/blob/main/EmmaSoupharath_InClassAssignment_2_10_25.ipynb\" target=\"_parent\"><img src=\"https://colab.research.google.com/assets/colab-badge.svg\" alt=\"Open In Colab\"/></a>"
      ]
    },
    {
      "cell_type": "code",
      "execution_count": 2,
      "metadata": {
        "id": "OnsSDOzCBxu9",
        "colab": {
          "base_uri": "https://localhost:8080/"
        },
        "outputId": "7fa40019-8b94-4804-b853-cac516ffcb67"
      },
      "outputs": [
        {
          "output_type": "stream",
          "name": "stdout",
          "text": [
            "Do you want to play a game of Rock, Paper, Scissors (yes/no)?yes\n",
            "options: rock, paper, scissors\n",
            "Player 1, enter your choice: rock\n",
            "Player 2, enter your choice: paper\n",
            "Player 2 wins!\n",
            "Do you want to play again (yes/no)?yes\n",
            "Thanks for playing!\n",
            "options: rock, paper, scissors\n",
            "Player 1, enter your choice: scissors\n",
            "Player 2, enter your choice: scissors\n",
            "It's a tie!\n",
            "Do you want to play again (yes/no)?yes\n",
            "Thanks for playing!\n",
            "options: rock, paper, scissors\n",
            "Player 1, enter your choice: paper\n",
            "Player 2, enter your choice: rock\n",
            "Player 1 wins!\n",
            "Do you want to play again (yes/no)?no\n",
            "Thanks for playing!\n"
          ]
        }
      ],
      "source": [
        "play = input(\"Do you want to play a game of Rock, Paper, Scissors (yes/no)?\")\n",
        "\n",
        "while play == 'yes':\n",
        "  print(\"options: rock, paper, scissors\")\n",
        "  player1 = input(\"Player 1, enter your choice: \")\n",
        "  player2 = input(\"Player 2, enter your choice: \")\n",
        "\n",
        "  if player1 == player2:\n",
        "    print(\"It's a tie!\")\n",
        "  elif player1 == 'rock' and player2 == 'scissors':\n",
        "    print(\"Player 1 wins!\")\n",
        "  elif player1 == 'paper' and player2 == 'rock':\n",
        "    print(\"Player 1 wins!\")\n",
        "  elif player1 == 'scissors' and player2 == 'paper':\n",
        "    print(\"Player 1 wins!\")\n",
        "  else:\n",
        "    print(\"Player 2 wins!\")\n",
        "\n",
        "  play = input(\"Do you want to play again (yes/no)?\")\n",
        "\n",
        "  print(\"Thanks for playing!\")"
      ]
    }
  ]
}