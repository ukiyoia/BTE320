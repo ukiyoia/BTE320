{
  "nbformat": 4,
  "nbformat_minor": 0,
  "metadata": {
    "colab": {
      "provenance": [],
      "authorship_tag": "ABX9TyMiNfa2oQa4qiQhQmHkVrjB",
      "include_colab_link": true
    },
    "kernelspec": {
      "name": "python3",
      "display_name": "Python 3"
    },
    "language_info": {
      "name": "python"
    }
  },
  "cells": [
    {
      "cell_type": "markdown",
      "metadata": {
        "id": "view-in-github",
        "colab_type": "text"
      },
      "source": [
        "<a href=\"https://colab.research.google.com/github/ukiyoia/BTE320/blob/main/ClassPointandRectangle_InClassAssignment_EmmaSoupharath.ipynb\" target=\"_parent\"><img src=\"https://colab.research.google.com/assets/colab-badge.svg\" alt=\"Open In Colab\"/></a>"
      ]
    },
    {
      "cell_type": "code",
      "execution_count": 1,
      "metadata": {
        "colab": {
          "base_uri": "https://localhost:8080/"
        },
        "id": "iW5GuVhCeGe7",
        "outputId": "9da658c8-2c61-4938-fdd6-0035446cedae"
      },
      "outputs": [
        {
          "output_type": "stream",
          "name": "stdout",
          "text": [
            "The distance is: 5.0\n"
          ]
        }
      ],
      "source": [
        "class Coordinate:\n",
        "  def __init__(self, x, y):\n",
        "    self.x = x\n",
        "    self.y = y\n",
        "\n",
        "  def distance(self, b):\n",
        "    dx = (self.x - b.x) ** 2\n",
        "    dy = (self.y - b.y) ** 2\n",
        "    print(f'The distance is: {(dx + dy) ** 0.5}')\n",
        "\n",
        "p1 = Coordinate(0, 0)\n",
        "p2 = Coordinate(3, 4)\n",
        "p2.distance(p1)"
      ]
    },
    {
      "cell_type": "code",
      "source": [
        "import math\n",
        "\n",
        "class Point:\n",
        "  def __init__(self, x, y):\n",
        "    self.x = x\n",
        "    self.y = y\n",
        "\n",
        "  def distance(self, other_point):\n",
        "    dx = (self.x - other.x) ** 2\n",
        "    dy = (self.y - other.y) ** 2\n",
        "    rdist = math.sqrt(dx + dy)\n",
        "    print(dist)"
      ],
      "metadata": {
        "id": "AWI6cQCkclIJ"
      },
      "execution_count": 2,
      "outputs": []
    },
    {
      "cell_type": "code",
      "source": [
        "import math\n",
        "\n",
        "class Point:\n",
        "  def __init__(self, x, y):\n",
        "    self.x = x\n",
        "    self.y = y\n",
        "\n",
        "  def distance(self, other_point):\n",
        "    return math.sqrt((self.x - other_point.x) ** 2 + (self.y - other_point.y) ** 2)"
      ],
      "metadata": {
        "id": "jWgVE7GygrIc"
      },
      "execution_count": null,
      "outputs": []
    },
    {
      "cell_type": "code",
      "source": [
        "class Rectangle:\n",
        "  def __init__(self, c1, c2, c3, c4):\n",
        "    self.c1 = c1\n",
        "    self.c2 = c2\n",
        "    self.c3 = c3\n",
        "    self.c4 = c1\n",
        "\n",
        "p1 = Point(0, 0)\n",
        "p2 = Point(0, 2)\n",
        "p3 = Point(2, 2)\n",
        "p4 = Point(2, 2)\n",
        "\n",
        "square = Rectangle(p1, p2, p3, p4)"
      ],
      "metadata": {
        "id": "pEHGxvUyYpKM"
      },
      "execution_count": null,
      "outputs": []
    },
    {
      "cell_type": "code",
      "source": [
        "class Rectangle:\n",
        "  def __init__(self):\n",
        "    self.c1 = Point(0, 0)\n",
        "    self.c2 = Point(0, 2)\n",
        "    self.c3 = Point(2, 0)\n",
        "    self.c4 = Point(2, 2)\n",
        "    self.width = self.calculate_width()\n",
        "    self.height = self.calculate_height()\n",
        "\n",
        "  def calculate_width(self):\n",
        "    return self.c1.distance(self.c2)\n",
        "\n",
        "  def calculate_height(self):\n",
        "    return self.c3.distance(self.c4)\n",
        "\n",
        "  def area(self):\n",
        "    return self.width * self.height\n",
        "\n",
        "square = Rectangle()\n",
        "square.area()"
      ],
      "metadata": {
        "colab": {
          "base_uri": "https://localhost:8080/"
        },
        "id": "teSM455nbrnP",
        "outputId": "6776a562-a9ad-4323-9b51-0498389c11e6"
      },
      "execution_count": null,
      "outputs": [
        {
          "output_type": "execute_result",
          "data": {
            "text/plain": [
              "4.0"
            ]
          },
          "metadata": {},
          "execution_count": 20
        }
      ]
    }
  ]
}