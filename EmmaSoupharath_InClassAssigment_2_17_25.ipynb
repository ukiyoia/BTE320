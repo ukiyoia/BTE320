{
  "nbformat": 4,
  "nbformat_minor": 0,
  "metadata": {
    "colab": {
      "provenance": [],
      "authorship_tag": "ABX9TyOoPXS6mwmMR0JGLIN8WSjR",
      "include_colab_link": true
    },
    "kernelspec": {
      "name": "python3",
      "display_name": "Python 3"
    },
    "language_info": {
      "name": "python"
    }
  },
  "cells": [
    {
      "cell_type": "markdown",
      "metadata": {
        "id": "view-in-github",
        "colab_type": "text"
      },
      "source": [
        "<a href=\"https://colab.research.google.com/github/ukiyoia/BTE320/blob/main/EmmaSoupharath_InClassAssigment_2_17_25.ipynb\" target=\"_parent\"><img src=\"https://colab.research.google.com/assets/colab-badge.svg\" alt=\"Open In Colab\"/></a>"
      ]
    },
    {
      "cell_type": "code",
      "execution_count": null,
      "metadata": {
        "colab": {
          "base_uri": "https://localhost:8080/"
        },
        "id": "uI7reCuc_ox-",
        "outputId": "9f9d2cec-96f5-4d52-c695-d1a3b1d369c8"
      },
      "outputs": [
        {
          "output_type": "stream",
          "name": "stdout",
          "text": [
            "Enter a number: 3\n",
            "Enter a number: 4\n",
            "Enter a number: 5\n",
            "Enter a number: 6\n",
            "Enter a number: 7\n",
            "Enter a number: 8\n",
            "Enter a number: 0\n",
            "Numbers in descending order: [8.0, 7.0, 6.0, 5.0, 4.0, 3.0]\n"
          ]
        }
      ],
      "source": [
        "numbers = []\n",
        "\n",
        "while True:\n",
        "  num = float(input(\"Enter a number: \"))\n",
        "  if num == 0:\n",
        "    break # stops when user enters 0\n",
        "  numbers.append(num)\n",
        "\n",
        "numbers.sort(reverse=True)\n",
        "print(\"Numbers in descending order:\", numbers)"
      ]
    },
    {
      "cell_type": "code",
      "source": [
        "lst = []\n",
        "\n",
        "num = float(input(\"Enter a number: \"))\n",
        "\n",
        "while num != 0:\n",
        "  lst.append(num)\n",
        "  num = float(input(\"Enter a number: \"))\n",
        "\n",
        "lst.sort(reverse=True)\n",
        "print(\"Numbers in descending order:\", lst)"
      ],
      "metadata": {
        "colab": {
          "base_uri": "https://localhost:8080/"
        },
        "id": "2UKmFT37DffG",
        "outputId": "05ebfff4-6c87-49e2-a92e-3677f3f4a9d1"
      },
      "execution_count": null,
      "outputs": [
        {
          "output_type": "stream",
          "name": "stdout",
          "text": [
            "Enter a number: 2\n",
            "Enter a number: 3\n",
            "Enter a number: 4\n",
            "Enter a number: 7\n",
            "Enter a number: 8\n",
            "Enter a number: 0\n",
            "Numbers in descending order: [8.0, 7.0, 4.0, 3.0, 2.0]\n"
          ]
        }
      ]
    },
    {
      "cell_type": "code",
      "source": [
        "lst = []\n",
        "\n",
        "while True:\n",
        "  num = float(input(\"Enter a number: \"))\n",
        "  if num == 0:\n",
        "    break # stops when user enters 0\n",
        "  lst.append(num)\n",
        "\n",
        "lst.sort(reverse=True)\n",
        "print(\"Numbers in descending order:\", lst)"
      ],
      "metadata": {
        "colab": {
          "base_uri": "https://localhost:8080/"
        },
        "id": "RAVMQP17DvuF",
        "outputId": "27e7aa10-cd91-44e1-d521-d7682b0a3925"
      },
      "execution_count": null,
      "outputs": [
        {
          "output_type": "stream",
          "name": "stdout",
          "text": [
            "Enter a number: 4\n",
            "Enter a number: 5\n",
            "Enter a number: 6\n",
            "Enter a number: 7\n",
            "Enter a number: 0\n",
            "Numbers in descending order: [7.0, 6.0, 5.0, 4.0]\n"
          ]
        }
      ]
    }
  ]
}