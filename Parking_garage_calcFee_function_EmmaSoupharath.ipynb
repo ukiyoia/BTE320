{
  "nbformat": 4,
  "nbformat_minor": 0,
  "metadata": {
    "colab": {
      "provenance": [],
      "authorship_tag": "ABX9TyPI0C+tCzAGJnVaNYqFahwE",
      "include_colab_link": true
    },
    "kernelspec": {
      "name": "python3",
      "display_name": "Python 3"
    },
    "language_info": {
      "name": "python"
    }
  },
  "cells": [
    {
      "cell_type": "markdown",
      "metadata": {
        "id": "view-in-github",
        "colab_type": "text"
      },
      "source": [
        "<a href=\"https://colab.research.google.com/github/ukiyoia/BTE320/blob/main/Parking_garage_calcFee_function_EmmaSoupharath.ipynb\" target=\"_parent\"><img src=\"https://colab.research.google.com/assets/colab-badge.svg\" alt=\"Open In Colab\"/></a>"
      ]
    },
    {
      "cell_type": "code",
      "execution_count": 3,
      "metadata": {
        "colab": {
          "base_uri": "https://localhost:8080/"
        },
        "id": "zdeUEAb_P2oy",
        "outputId": "d7e4d0eb-cdb0-4e10-a0b6-8a1675b9702e"
      },
      "outputs": [
        {
          "output_type": "stream",
          "name": "stdout",
          "text": [
            "Enter number of hours parked: 8\n",
            "Parking charge: $20.00\n"
          ]
        }
      ],
      "source": [
        "def calcFee(hours):\n",
        "  fee = 5  + 2.5 * hours\n",
        "  if fee <= 10:\n",
        "      fee = 10\n",
        "  elif fee > 20:\n",
        "    fee = 20\n",
        "\n",
        "    return fee\n",
        "\n",
        "hours_parked = float(input(\"Enter number of hours parked: \"))\n",
        "charge = calcFee(hours_parked)\n",
        "print(f\"Parking charge: ${charge:.2f}\")\n"
      ]
    }
  ]
}